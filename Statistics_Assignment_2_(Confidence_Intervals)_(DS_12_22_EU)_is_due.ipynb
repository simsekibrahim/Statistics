{
  "nbformat": 4,
  "nbformat_minor": 0,
  "metadata": {
    "colab": {
      "provenance": [],
      "collapsed_sections": []
    },
    "kernelspec": {
      "name": "python3",
      "display_name": "Python 3"
    },
    "language_info": {
      "name": "python"
    }
  },
  "cells": [
    {
      "cell_type": "code",
      "source": [
        "import numpy as np\n",
        "import pandas as pd\n",
        "import seaborn as sns\n",
        "from scipy import stats"
      ],
      "metadata": {
        "id": "3SZA6LMPvPn8"
      },
      "execution_count": 1,
      "outputs": []
    },
    {
      "cell_type": "markdown",
      "source": [
        "**EXERCISE 1.** Suppose scores on exams in statistics are normally distributed with an unknown population mean and a population standard deviation of 3 points. A random sample of 36 scores is taken and gives a sample mean (sample  mean score) of 68. Find a confidence interval estimate for the population mean exam score (the mean score on all exams).\n",
        "\n",
        "Find a 90% confidence interval for the true (population) mean of statistics exam scores."
      ],
      "metadata": {
        "id": "L-j8GOH_4qri"
      }
    },
    {
      "cell_type": "code",
      "source": [
        "xbar = 68\n",
        "std = 3\n",
        "n = 36"
      ],
      "metadata": {
        "id": "xbUMfqLN4qND"
      },
      "execution_count": 59,
      "outputs": []
    },
    {
      "cell_type": "code",
      "execution_count": 60,
      "metadata": {
        "id": "tK1OOsft4mie",
        "colab": {
          "base_uri": "https://localhost:8080/"
        },
        "outputId": "ff6af1ec-8a10-420a-b50d-bb6c21723a0b"
      },
      "outputs": [
        {
          "output_type": "execute_result",
          "data": {
            "text/plain": [
              "0.5"
            ]
          },
          "metadata": {},
          "execution_count": 60
        }
      ],
      "source": [
        "sem = std / np.sqrt(n)\n",
        "sem"
      ]
    },
    {
      "cell_type": "code",
      "source": [
        "moe = 1.645 * sem"
      ],
      "metadata": {
        "id": "zRoEd0BSBiyG"
      },
      "execution_count": 61,
      "outputs": []
    },
    {
      "cell_type": "code",
      "source": [
        "lower_limit = xbar - moe\n",
        "upper_limit = xbar + moe\n",
        "print (f\"CI: lower_limit: {lower_limit}, upper_limit: {upper_limit}\")"
      ],
      "metadata": {
        "colab": {
          "base_uri": "https://localhost:8080/"
        },
        "id": "IesTXSi23nae",
        "outputId": "a7f56248-19d4-4270-9db3-180dfa565d9b"
      },
      "execution_count": 68,
      "outputs": [
        {
          "output_type": "stream",
          "name": "stdout",
          "text": [
            "CI: lower_limit: 67.1775, upper_limit: 68.8225\n"
          ]
        }
      ]
    },
    {
      "cell_type": "code",
      "source": [
        "#option2\n",
        "\n",
        "stats.norm.interval(0.90, loc = xbar, scale = sem)"
      ],
      "metadata": {
        "colab": {
          "base_uri": "https://localhost:8080/"
        },
        "id": "dxPf3V3TC5wk",
        "outputId": "0f7b82a9-78df-41fc-a47e-8c0bf1bae2e9"
      },
      "execution_count": 69,
      "outputs": [
        {
          "output_type": "execute_result",
          "data": {
            "text/plain": [
              "(67.17757318652427, 68.82242681347573)"
            ]
          },
          "metadata": {},
          "execution_count": 69
        }
      ]
    },
    {
      "cell_type": "markdown",
      "source": [
        "**EXERCISE 2.** What is the normal body temperature for healthy humans? A random sample of 130 healthy human body temperatures provided by Allen Shoemaker7 yielded 98.25 degrees and standard deviation 0.73 degrees. \n",
        "\n",
        "Give a 99% confidence interval for the average body temperature of healthy people."
      ],
      "metadata": {
        "id": "m6ncPFmw6q4P"
      }
    },
    {
      "cell_type": "code",
      "source": [
        "n2 = 130\n",
        "xbar2 = 98.25\n",
        "sigma2 = 0.73"
      ],
      "metadata": {
        "id": "7XqGsfPb6wjU"
      },
      "execution_count": 50,
      "outputs": []
    },
    {
      "cell_type": "code",
      "source": [
        "sem2 = sigma2 / np.sqrt(n2)\n",
        "sem2"
      ],
      "metadata": {
        "colab": {
          "base_uri": "https://localhost:8080/"
        },
        "id": "nnddkBMZ-SA9",
        "outputId": "51cf302a-7824-4129-f60c-29c937ab2397"
      },
      "execution_count": 51,
      "outputs": [
        {
          "output_type": "execute_result",
          "data": {
            "text/plain": [
              "0.06402523540941313"
            ]
          },
          "metadata": {},
          "execution_count": 51
        }
      ]
    },
    {
      "cell_type": "code",
      "source": [
        "moe2 = 2.576 * sem2"
      ],
      "metadata": {
        "id": "A2pqDDsoB3om"
      },
      "execution_count": 52,
      "outputs": []
    },
    {
      "cell_type": "code",
      "source": [
        "lower_limit2 = xbar2 - moe2\n",
        "upper_limit2 = xbar2 + moe2\n",
        "print (f\"CI2: lower_limit: {lower_limit2}, upper_limit: {upper_limit2}\")"
      ],
      "metadata": {
        "colab": {
          "base_uri": "https://localhost:8080/"
        },
        "id": "-yT2MCCn-dE8",
        "outputId": "7a821e92-baf8-42aa-d0df-924edda72cdf"
      },
      "execution_count": 53,
      "outputs": [
        {
          "output_type": "stream",
          "name": "stdout",
          "text": [
            "CI2: lower_limit: 98.08507099358535, upper_limit: 98.41492900641465\n"
          ]
        }
      ]
    },
    {
      "cell_type": "code",
      "source": [
        "#option2:\n",
        "stats.norm.interval(0.99, loc = xbar2, scale = sem2)"
      ],
      "metadata": {
        "colab": {
          "base_uri": "https://localhost:8080/"
        },
        "id": "jqnIosM7D2xT",
        "outputId": "66843756-27c7-42e6-faa8-30e443b190ee"
      },
      "execution_count": 70,
      "outputs": [
        {
          "output_type": "execute_result",
          "data": {
            "text/plain": [
              "(98.08508192246582, 98.41491807753418)"
            ]
          },
          "metadata": {},
          "execution_count": 70
        }
      ]
    },
    {
      "cell_type": "markdown",
      "source": [
        "**EXERCISE 3.** The administrators for a hospital wished to estimate the average number of days required for inpatient treatment of patients between the ages of 25 and 34. A random sample of 500 hospital patients between these ages produced a mean and standard deviation equal to 5.4 and 3.1 days, respectively.\n",
        "Construct a 95% confidence interval for the mean length of stay for the population of patients from which the sample was drawn."
      ],
      "metadata": {
        "id": "W-AwoChj_Cv7"
      }
    },
    {
      "cell_type": "code",
      "source": [
        "n3 = 500\n",
        "xbar3 = 5.4\n",
        "sigma3 = 3.1"
      ],
      "metadata": {
        "id": "xTXIvfob_FDy"
      },
      "execution_count": 54,
      "outputs": []
    },
    {
      "cell_type": "code",
      "source": [
        "sem3 = sigma3 / np.sqrt(n2)\n",
        "sem3"
      ],
      "metadata": {
        "colab": {
          "base_uri": "https://localhost:8080/"
        },
        "id": "8EVnmma-AYlQ",
        "outputId": "f4c90073-1b41-4442-abe1-b888fabde088"
      },
      "execution_count": 55,
      "outputs": [
        {
          "output_type": "execute_result",
          "data": {
            "text/plain": [
              "0.2718879859851791"
            ]
          },
          "metadata": {},
          "execution_count": 55
        }
      ]
    },
    {
      "cell_type": "code",
      "source": [
        "moe3 = 1.96 * sem3"
      ],
      "metadata": {
        "id": "POy42kNYCHoO"
      },
      "execution_count": 56,
      "outputs": []
    },
    {
      "cell_type": "code",
      "source": [
        "lower_limit3 = xbar3 - moe3\n",
        "upper_limit3 = xbar3 + moe3\n",
        "print (f\"CI3: lower_limit: {lower_limit3}, upper_limit: {upper_limit3}\")"
      ],
      "metadata": {
        "colab": {
          "base_uri": "https://localhost:8080/"
        },
        "id": "v_z0QQfoALwB",
        "outputId": "f2c13ca7-c483-46ff-cfdb-17c31242bc54"
      },
      "execution_count": 57,
      "outputs": [
        {
          "output_type": "stream",
          "name": "stdout",
          "text": [
            "CI3: lower_limit: 4.867099547469049, upper_limit: 5.932900452530951\n"
          ]
        }
      ]
    },
    {
      "cell_type": "code",
      "source": [
        "#option2:\n",
        "\n",
        "stats.norm.interval(0.95, loc = xbar3, scale = sem3)"
      ],
      "metadata": {
        "colab": {
          "base_uri": "https://localhost:8080/"
        },
        "id": "aGXX-tbMEqxi",
        "outputId": "80f69fb8-c7b1-42ef-e64d-ad1682f438de"
      },
      "execution_count": 73,
      "outputs": [
        {
          "output_type": "execute_result",
          "data": {
            "text/plain": [
              "(4.867109339639918, 5.932890660360083)"
            ]
          },
          "metadata": {},
          "execution_count": 73
        }
      ]
    }
  ]
}